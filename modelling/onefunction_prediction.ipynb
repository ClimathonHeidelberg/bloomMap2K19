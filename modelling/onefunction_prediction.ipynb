{
 "cells": [
  {
   "cell_type": "code",
   "execution_count": 1,
   "metadata": {},
   "outputs": [],
   "source": [
    "import pandas as pd\n",
    "import matplotlib.pyplot as plt\n",
    "import numpy as np\n",
    "import seaborn as sns\n",
    "import re as re\n",
    "\n",
    "def my_function(date):\n",
    "    temp=pd.read_csv('temp', sep=',')\n",
    "    i=0\n",
    "    for x in temp.min_temp:\n",
    "        if x<10:\n",
    "            temp.min_temp.iloc[i]=10\n",
    "        if x>30:\n",
    "            temp.min_temp.iloc[i]=30     \n",
    "        i=i+1\n",
    "\n",
    "    i=0\n",
    "    for x in temp.max_temp:\n",
    "        if x <10:\n",
    "            temp.max_temp.iloc[i]=10\n",
    "        if x>30:\n",
    "            temp.max_temp.iloc[i]=30 \n",
    "        i=i+1    \n",
    "    temp\n",
    "    y=int(temp[temp.Datum==date].index.values)\n",
    "    GDD_date=0\n",
    "    for x in range(y+1):    \n",
    "        GDD_date+=((temp.min_temp[x]+temp.max_temp[x])/2)-10\n",
    "    return GDD_date \n",
    "my_function('20.05.2019')\n",
    "\n",
    "def get_tree_pre(date,gdd_infile='wachstumsgradtag.csv',climate_infile='climate_heidelberg_tima_and_date.csv'):\n",
    "    gdd_date=my_function(date)\n",
    "    gdd_trees = pd.read_csv(gdd_infile, sep='\\t', encoding='utf-8')\n",
    "    monthly_temp = pd.read_csv(climate_infile,sep='\\t')\n",
    "    #monthly_temp\n",
    "    i=0\n",
    "    for x in monthly_temp.Min:\n",
    "        if x<10:\n",
    "            monthly_temp.Min.iloc[i]=10\n",
    "        if x>30:\n",
    "            monthly_temp.Min.iloc[i]=30     \n",
    "        i=i+1\n",
    "    i=0\n",
    "    for x in monthly_temp.Max:\n",
    "        if x <10:\n",
    "            monthly_temp.Max.iloc[i]=10\n",
    "        if x>30:\n",
    "            monthly_temp.Max.iloc[i]=30 \n",
    "        i=i+1    \n",
    "    #temp\n",
    "    monthly_temp['average_weekly_gdd']=((monthly_temp.Max+monthly_temp.Min)/2-10)*7\n",
    "    #monthly_temp\n",
    "    month=int(re.findall('\\d{2}[.](\\d{2})[.]\\d{4}',date)[0])\n",
    "    #month\n",
    "    averg_gdd=float(monthly_temp[monthly_temp.Month==month].average_weekly_gdd)\n",
    "    #averg_gdd\n",
    "    prdctd=gdd_date+averg_gdd\n",
    "    #prdctd\n",
    "    #gdd_trees\n",
    "    blooming=gdd_trees[(gdd_trees[\"minGDD\"]<prdctd) & (gdd_trees[\"minGDD\"]>gdd_date)].Latin.tolist()\n",
    "    print(blooming)\n",
    "    return blooming\n",
    "get_tree_pre(date)"
   ]
  },
  {
   "cell_type": "code",
   "execution_count": 2,
   "metadata": {},
   "outputs": [
    {
     "name": "stderr",
     "output_type": "stream",
     "text": [
      "/Applications/anaconda3/lib/python3.7/site-packages/pandas/core/indexing.py:205: SettingWithCopyWarning: \n",
      "A value is trying to be set on a copy of a slice from a DataFrame\n",
      "\n",
      "See the caveats in the documentation: http://pandas.pydata.org/pandas-docs/stable/user_guide/indexing.html#returning-a-view-versus-a-copy\n",
      "  self._setitem_with_indexer(indexer, value)\n"
     ]
    },
    {
     "data": {
      "text/plain": [
       "241.04999999999998"
      ]
     },
     "execution_count": 2,
     "metadata": {},
     "output_type": "execute_result"
    }
   ],
   "source": []
  },
  {
   "cell_type": "code",
   "execution_count": 3,
   "metadata": {},
   "outputs": [],
   "source": []
  },
  {
   "cell_type": "code",
   "execution_count": 4,
   "metadata": {},
   "outputs": [
    {
     "name": "stdout",
     "output_type": "stream",
     "text": [
      "['Ligustrum spp. ', 'Sambucus canadensis ']\n"
     ]
    },
    {
     "data": {
      "text/plain": [
       "['Ligustrum spp. ', 'Sambucus canadensis ']"
      ]
     },
     "execution_count": 4,
     "metadata": {},
     "output_type": "execute_result"
    }
   ],
   "source": []
  },
  {
   "cell_type": "code",
   "execution_count": null,
   "metadata": {},
   "outputs": [],
   "source": []
  }
 ],
 "metadata": {
  "kernelspec": {
   "display_name": "Python 3",
   "language": "python",
   "name": "python3"
  },
  "language_info": {
   "codemirror_mode": {
    "name": "ipython",
    "version": 3
   },
   "file_extension": ".py",
   "mimetype": "text/x-python",
   "name": "python",
   "nbconvert_exporter": "python",
   "pygments_lexer": "ipython3",
   "version": "3.7.4"
  }
 },
 "nbformat": 4,
 "nbformat_minor": 2
}
